{
 "cells": [
  {
   "cell_type": "markdown",
   "metadata": {},
   "source": [
    "# Python Basics"
   ]
  },
  {
   "cell_type": "markdown",
   "metadata": {},
   "source": [
    "## Hello World"
   ]
  },
  {
   "cell_type": "code",
   "execution_count": 2,
   "metadata": {},
   "outputs": [
    {
     "name": "stdout",
     "output_type": "stream",
     "text": [
      "Hello World\n",
      "Semangat Belajar\n"
     ]
    }
   ],
   "source": [
    "print(\"Hello World\")\n",
    "print(\"Semangat Belajar\")"
   ]
  },
  {
   "cell_type": "markdown",
   "metadata": {},
   "source": [
    "## Membuat Komentar"
   ]
  },
  {
   "cell_type": "code",
   "execution_count": 5,
   "metadata": {},
   "outputs": [
    {
     "name": "stdout",
     "output_type": "stream",
     "text": [
      "cocok toh?\n"
     ]
    }
   ],
   "source": [
    "# Kode yang ini tidak akan dianggap sebagai kode program, ketika di running akan di skip atau di ignore\n",
    "print(\"cocok toh?\") # bisa taro disini juga"
   ]
  },
  {
   "cell_type": "markdown",
   "metadata": {},
   "source": [
    "## Tipe Data Number"
   ]
  },
  {
   "cell_type": "code",
   "execution_count": 7,
   "metadata": {},
   "outputs": [
    {
     "name": "stdout",
     "output_type": "stream",
     "text": [
      "1\n",
      "<class 'float'>\n"
     ]
    }
   ],
   "source": [
    "print(1) # kalau ini tipe data integer\n",
    "print(type(1.5)) # ini float"
   ]
  },
  {
   "cell_type": "markdown",
   "metadata": {},
   "source": [
    "## Operasi Matematika Sederhana"
   ]
  },
  {
   "cell_type": "code",
   "execution_count": 8,
   "metadata": {},
   "outputs": [
    {
     "name": "stdout",
     "output_type": "stream",
     "text": [
      "2\n",
      "1\n",
      "3.0\n",
      "5\n",
      "0\n"
     ]
    }
   ],
   "source": [
    "# Tambah\n",
    "print(1+1)\n",
    "# Kurang\n",
    "print(2-1)\n",
    "# Bagi\n",
    "print(6/2)\n",
    "# Kali\n",
    "print(5*1)\n",
    "# Sisa Bagi\n",
    "print(5%1)"
   ]
  },
  {
   "cell_type": "markdown",
   "metadata": {},
   "source": [
    "## Variable"
   ]
  },
  {
   "cell_type": "code",
   "execution_count": 9,
   "metadata": {},
   "outputs": [
    {
     "name": "stdout",
     "output_type": "stream",
     "text": [
      "Hello izzah malas\n"
     ]
    }
   ],
   "source": [
    "hello = \"Hello izzah malas\" #Hello adalah variable\n",
    "print(hello)"
   ]
  },
  {
   "cell_type": "markdown",
   "metadata": {},
   "source": [
    "## Tipe Data String"
   ]
  },
  {
   "cell_type": "code",
   "execution_count": 10,
   "metadata": {},
   "outputs": [
    {
     "name": "stdout",
     "output_type": "stream",
     "text": [
      "izzah\n"
     ]
    }
   ],
   "source": [
    "# kalimat diantara tanda petik 2(kayak ini (\"\") atau ('') tipe data string)\n",
    "nama = \"izzah\"\n",
    "print(nama)"
   ]
  },
  {
   "cell_type": "markdown",
   "metadata": {},
   "source": [
    "## Format String"
   ]
  },
  {
   "cell_type": "code",
   "execution_count": 13,
   "metadata": {},
   "outputs": [
    {
     "name": "stdout",
     "output_type": "stream",
     "text": [
      "Halo Nurul Izzah Luthfiah\n"
     ]
    }
   ],
   "source": [
    "nama_depan = \"Nurul\"\n",
    "nama_tengah = \"Izzah\"\n",
    "nama_belakang = \"Luthfiah\"\n",
    "\n",
    "sapa = f\"Halo {nama_depan} {nama_tengah} {nama_belakang}\"\n",
    "print(sapa)"
   ]
  },
  {
   "cell_type": "markdown",
   "metadata": {},
   "source": [
    "## Input"
   ]
  },
  {
   "cell_type": "code",
   "execution_count": 14,
   "metadata": {},
   "outputs": [
    {
     "name": "stdout",
     "output_type": "stream",
     "text": [
      "Silahkan masukka nama : izzah\n",
      "Hello izzah, Selamat Datang\n"
     ]
    }
   ],
   "source": [
    "nama = input(\"Silahkan masukka nama : \")\n",
    "print(f\"Hello {nama}, Selamat Datang\")"
   ]
  },
  {
   "cell_type": "markdown",
   "metadata": {},
   "source": [
    "## Input Number"
   ]
  },
  {
   "cell_type": "code",
   "execution_count": 17,
   "metadata": {},
   "outputs": [
    {
     "name": "stdout",
     "output_type": "stream",
     "text": [
      "Angka Pertama :2\n",
      "Angka Kedua :7\n",
      "2 + 7 = 9\n"
     ]
    }
   ],
   "source": [
    "a = int(input(\"Angka Pertama :\"))\n",
    "b = int(input(\"Angka Kedua :\"))\n",
    "hasil = a + b\n",
    "print(f\"{a} + {b} = {hasil}\")\n",
    "# output dari input adalah string"
   ]
  },
  {
   "cell_type": "markdown",
   "metadata": {},
   "source": [
    "## Tipe Data Boolean"
   ]
  },
  {
   "cell_type": "code",
   "execution_count": 18,
   "metadata": {},
   "outputs": [
    {
     "name": "stdout",
     "output_type": "stream",
     "text": [
      "False\n",
      "True\n"
     ]
    }
   ],
   "source": [
    "# False = salah, True = Benar\n",
    "menikah = False\n",
    "jomblo = True\n",
    "print(menikah)\n",
    "print(jomblo)"
   ]
  },
  {
   "cell_type": "markdown",
   "metadata": {},
   "source": [
    "## Operasi Logika"
   ]
  },
  {
   "cell_type": "code",
   "execution_count": 20,
   "metadata": {},
   "outputs": [
    {
     "name": "stdout",
     "output_type": "stream",
     "text": [
      "True\n",
      "False\n",
      "True\n",
      "True\n"
     ]
    }
   ],
   "source": [
    "# and = akan bernilai true ketika 2 tipe data booleannya bernilai true\n",
    "print(True and True)\n",
    "print(True and False)\n",
    "# or = akan bernilai true ketika salah satu nilai dari tipe booleannya bernilai true\n",
    "# and = akan bernilai true ketika 2 tipe data booleannya bernilai true\n",
    "print(True or True)\n",
    "print(True or False)"
   ]
  },
  {
   "cell_type": "markdown",
   "metadata": {},
   "source": [
    "## Operator Perbandingan"
   ]
  },
  {
   "cell_type": "code",
   "execution_count": 21,
   "metadata": {},
   "outputs": [
    {
     "name": "stdout",
     "output_type": "stream",
     "text": [
      "Example :\n",
      "False\n",
      "True\n",
      "False\n"
     ]
    }
   ],
   "source": [
    "# > lebih dari\n",
    "# < kurang dari\n",
    "# >= lebih dari sama dengan \n",
    "# <= kurang dari sama dengan\n",
    "# == sama dengan\n",
    "# != tidak sama dengan\n",
    "print(\"Example :\")\n",
    "print(1>2)\n",
    "print(3<=20)\n",
    "print(\"EKO\" == \"Eko\")"
   ]
  },
  {
   "cell_type": "markdown",
   "metadata": {},
   "source": [
    "## If Statement"
   ]
  },
  {
   "cell_type": "code",
   "execution_count": 22,
   "metadata": {},
   "outputs": [
    {
     "name": "stdout",
     "output_type": "stream",
     "text": [
      "Mari Bersiap berperanggg\n"
     ]
    }
   ],
   "source": [
    "orang = 100\n",
    "zombie = 100\n",
    "if orang<zombie :\n",
    "    print(\"KAburrr Dunia akan kiamat\")\n",
    "elif zombie>zombie :\n",
    "    print(\"Mari Basmi Zombieeee\")\n",
    "else :\n",
    "    print(\"Mari Bersiap berperanggg\")"
   ]
  },
  {
   "cell_type": "markdown",
   "metadata": {},
   "source": [
    "## List"
   ]
  },
  {
   "cell_type": "code",
   "execution_count": 32,
   "metadata": {},
   "outputs": [
    {
     "name": "stdout",
     "output_type": "stream",
     "text": [
      "['dua', 'tiga']\n",
      "3\n"
     ]
    }
   ],
   "source": [
    "# List adalah tipe data untuk kumpulan data\n",
    "# len untuk menghitung jumlah karakter pada string\n",
    "nama =[]\n",
    "nama.append(\"satu\")\n",
    "nama.append(\"dua\")\n",
    "nama.append(\"tiga\")\n",
    "nama.remove(\"satu\")\n",
    "\n",
    "print(nama)\n",
    "print(len(nama[0]))"
   ]
  },
  {
   "cell_type": "markdown",
   "metadata": {},
   "source": [
    "## Edit List"
   ]
  },
  {
   "cell_type": "code",
   "execution_count": 34,
   "metadata": {},
   "outputs": [
    {
     "name": "stdout",
     "output_type": "stream",
     "text": [
      "['rajin', 'sekali', '!']\n"
     ]
    }
   ],
   "source": [
    "#Membuat list\n",
    "nama = [\"kenapa\",\"malas\",\"sekali\"]\n",
    "#Menambah data ke list\n",
    "nama.append(\"!\")\n",
    "#Menghapus data dari list\n",
    "nama.remove(\"kenapa\")\n",
    "#Mengubah data di list\n",
    "nama[0] = \"rajin\"\n",
    "print(nama)"
   ]
  },
  {
   "cell_type": "markdown",
   "metadata": {},
   "source": [
    "## for loop"
   ]
  },
  {
   "cell_type": "code",
   "execution_count": 35,
   "metadata": {},
   "outputs": [
    {
     "name": "stdout",
     "output_type": "stream",
     "text": [
      "eko\n",
      "disa\n",
      "alan\n",
      "bambang\n"
     ]
    }
   ],
   "source": [
    "pelanggan = [\"eko\",\"disa\",\"alan\",\"bambang\"]\n",
    "\n",
    "for w in pelanggan :\n",
    "    print(w)"
   ]
  },
  {
   "cell_type": "markdown",
   "metadata": {},
   "source": [
    "## Range"
   ]
  },
  {
   "cell_type": "code",
   "execution_count": 36,
   "metadata": {},
   "outputs": [
    {
     "name": "stdout",
     "output_type": "stream",
     "text": [
      "1\n",
      "2\n",
      "3\n",
      "4\n",
      "5\n",
      "6\n",
      "7\n",
      "8\n",
      "9\n"
     ]
    }
   ],
   "source": [
    "angka = range(1,10)\n",
    "for nilai in angka :\n",
    "    print(nilai)"
   ]
  },
  {
   "cell_type": "markdown",
   "metadata": {},
   "source": [
    "## Membuat Program For Loop"
   ]
  },
  {
   "cell_type": "code",
   "execution_count": 42,
   "metadata": {},
   "outputs": [
    {
     "name": "stdout",
     "output_type": "stream",
     "text": [
      "Berapa banyak data? 2\n",
      "Nama : ana\n",
      "Umur : 17\n",
      "Nama : ani\n",
      "Umur : 18\n",
      "['ana', 'ani']\n",
      "['17', '18']\n"
     ]
    }
   ],
   "source": [
    "banyak = int(input(\"Berapa banyak data? \"))\n",
    "nama = []\n",
    "umur = []\n",
    "for w in range(0,banyak):\n",
    "    input_nama = input(\"Nama : \")\n",
    "    input_umur = input(str(\"Umur : \"))\n",
    "    \n",
    "    nama.append(input_nama)\n",
    "    umur.append(input_umur)\n",
    "print(nama)\n",
    "print(umur)"
   ]
  },
  {
   "cell_type": "markdown",
   "metadata": {},
   "source": [
    "## While loop"
   ]
  },
  {
   "cell_type": "code",
   "execution_count": 45,
   "metadata": {},
   "outputs": [
    {
     "name": "stdout",
     "output_type": "stream",
     "text": [
      "masuk perulangan\n",
      "data :3\n",
      "masuk perulangan\n",
      "data :5\n",
      "masuk perulangan\n",
      "data :x\n"
     ]
    }
   ],
   "source": [
    "# pengulangan berdasarkan kondisi boolean\n",
    "data = \"\"\n",
    "while data != \"x\":\n",
    "    print(\"masuk perulangan\")\n",
    "    data = input(\"data :\")"
   ]
  },
  {
   "cell_type": "markdown",
   "metadata": {},
   "source": [
    "## Continue"
   ]
  },
  {
   "cell_type": "code",
   "execution_count": 48,
   "metadata": {},
   "outputs": [
    {
     "name": "stdout",
     "output_type": "stream",
     "text": [
      "1\n",
      "3\n",
      "5\n",
      "7\n",
      "9\n"
     ]
    }
   ],
   "source": [
    "#continue untuk men-skip data yang ada pada loopinng == skip proses di bawahnya\n",
    "for i in range(1,10):\n",
    "    if i%2 == 0:\n",
    "        continue\n",
    "    print(i)\n",
    "    "
   ]
  },
  {
   "cell_type": "markdown",
   "metadata": {},
   "source": [
    "## Break"
   ]
  },
  {
   "cell_type": "code",
   "execution_count": 50,
   "metadata": {},
   "outputs": [
    {
     "name": "stdout",
     "output_type": "stream",
     "text": [
      "1\n",
      "2\n",
      "3\n",
      "4\n"
     ]
    }
   ],
   "source": [
    "# untuk stop perulangan\n",
    "for w in range(1,10):\n",
    "    if w % 5 == 0: \n",
    "        break\n",
    "    print(w)"
   ]
  },
  {
   "cell_type": "markdown",
   "metadata": {},
   "source": [
    "## Tuple"
   ]
  },
  {
   "cell_type": "code",
   "execution_count": 51,
   "metadata": {},
   "outputs": [
    {
     "name": "stdout",
     "output_type": "stream",
     "text": [
      "('Eko', 'Joko', 'Adit')\n"
     ]
    }
   ],
   "source": [
    "# data yang tidak bisa diubah\n",
    "pelanggan =(\"Eko\",\"Joko\",\"Adit\")\n",
    "print(pelanggan)"
   ]
  },
  {
   "cell_type": "markdown",
   "metadata": {},
   "source": [
    "## Tipe Data Set"
   ]
  },
  {
   "cell_type": "code",
   "execution_count": 6,
   "metadata": {},
   "outputs": [
    {
     "name": "stdout",
     "output_type": "stream",
     "text": [
      "{'maryam', 'kurniawan', 'Eko', 'ayam'}\n",
      "{'maryam', 'kurniawan', 'Eko'}\n",
      "{'maryam', 'kurniawan', 'Eko'}\n"
     ]
    }
   ],
   "source": [
    "# data tidak bisa sama,data yang sama akn tidak akan diterima , tidak ada duplikat\n",
    "# data yang telah dimasukka tidak beraturan, tidak dapat dilihat dengan index\n",
    "nama = {\"Eko\",\"ayam\",\"Eko\",\"maryam\"}\n",
    "nama.add(\"kurniawan\") #menambah set\n",
    "nama.add(\"kurniawan\")\n",
    "print(nama)\n",
    "nama.remove(\"ayam\")\n",
    "print(nama)\n",
    "print(nama)"
   ]
  },
  {
   "cell_type": "markdown",
   "metadata": {},
   "source": [
    "## Method"
   ]
  },
  {
   "cell_type": "code",
   "execution_count": 8,
   "metadata": {},
   "outputs": [
    {
     "name": "stdout",
     "output_type": "stream",
     "text": [
      "azizah\n"
     ]
    }
   ],
   "source": [
    "# atau function, tempat menyimpan kode blok yang akan di eksekusi ketika di panggil\n",
    "nama = []\n",
    "def print_nama():\n",
    "    for data in nama :\n",
    "        print(data)\n",
    "nama.append(\"azizah\")  \n",
    "print_nama()\n",
    "    "
   ]
  },
  {
   "cell_type": "markdown",
   "metadata": {},
   "source": [
    "## Method Parameter"
   ]
  },
  {
   "cell_type": "code",
   "execution_count": 11,
   "metadata": {},
   "outputs": [
    {
     "name": "stdout",
     "output_type": "stream",
     "text": [
      "Hello dian\n",
      "Hello Ran\n"
     ]
    }
   ],
   "source": [
    "def say(nama):\n",
    "    print(f\"Hello {nama}\")\n",
    "say(\"dian\")\n",
    "say(\"Ran\")"
   ]
  },
  {
   "cell_type": "markdown",
   "metadata": {},
   "source": [
    "## Default Argument Value"
   ]
  },
  {
   "cell_type": "code",
   "execution_count": 14,
   "metadata": {},
   "outputs": [
    {
     "name": "stdout",
     "output_type": "stream",
     "text": [
      "Hello Hendri - \n",
      "Hello Eko - handoko\n"
     ]
    }
   ],
   "source": [
    "def say(nama=\"Eko\",last_name=\"\"):\n",
    "    print(f\"Hello {nama} - {last_name}\")\n",
    "say(\"Hendri\")\n",
    "say(last_name=\"handoko\")"
   ]
  },
  {
   "cell_type": "markdown",
   "metadata": {},
   "source": [
    "## Argument List"
   ]
  },
  {
   "cell_type": "code",
   "execution_count": 17,
   "metadata": {},
   "outputs": [
    {
     "name": "stdout",
     "output_type": "stream",
     "text": [
      "Total(20,) = 20\n"
     ]
    }
   ],
   "source": [
    "# untuk menandakan suatu method dinamakan argumen list ditambahkan didepannya tanda bintang(*) , bisa memasukkan data lebih dari satu\n",
    "#argumen list ga bisa lebih dari 1\n",
    "#argumen list di taroh di paling belakang\n",
    "def jumlahkan(x,*list_angka):\n",
    "    total = 0\n",
    "    for angka in list_angka :\n",
    "        total = total +angka\n",
    "    print(f\"Total{list_angka} = {total}\")\n",
    "jumlahkan(10,20)"
   ]
  },
  {
   "cell_type": "markdown",
   "metadata": {},
   "source": [
    "## Return Value"
   ]
  },
  {
   "cell_type": "code",
   "execution_count": 29,
   "metadata": {},
   "outputs": [
    {
     "name": "stdout",
     "output_type": "stream",
     "text": [
      "Total(10, 20, 10, 5, 6) = 51\n",
      "Total(10, 20, 10, 5, 6) = 51\n",
      "Total(10, 20, 10, 5, 6) = 51\n"
     ]
    }
   ],
   "source": [
    "#method yang mengembalikan nilai\n",
    "def jumlahkan(*list_angka):\n",
    "    total = 0\n",
    "    for angka in list_angka :\n",
    "        total = total +angka\n",
    "    return (list_angka,total)\n",
    "list_angka,total = jumlahkan(10,20,10,5,6)\n",
    "print(f\"Total{list_angka} = {total}\")\n",
    "print(f\"Total{list_angka} = {total}\")\n",
    "print(f\"Total{list_angka} = {total}\")"
   ]
  },
  {
   "cell_type": "markdown",
   "metadata": {},
   "source": [
    "## Dictionary"
   ]
  },
  {
   "cell_type": "code",
   "execution_count": 44,
   "metadata": {},
   "outputs": [
    {
     "name": "stdout",
     "output_type": "stream",
     "text": [
      "name:Eko kurniawan\n",
      "Addres:Subang\n",
      "Company:X\n"
     ]
    }
   ],
   "source": [
    "customer = {\"name\":\"Eko\",\"Age\":30,\"Addres\":\"Subang\"}\n",
    "name = customer[\"name\"]\n",
    "age = customer[\"Age\"]\n",
    "addres = customer[\"Addres\"]\n",
    "customer[\"Company\"] = \"X\"\n",
    "customer[\"name\"] = \"Eko kurniawan\"\n",
    "del customer [\"Age\"]\n",
    "for key,value in customer.items(): #items: data dictionary berupa tuple\n",
    "    print(f\"{key}:{value}\")\n"
   ]
  },
  {
   "cell_type": "markdown",
   "metadata": {},
   "source": [
    "## Keword Argument List"
   ]
  },
  {
   "cell_type": "code",
   "execution_count": 48,
   "metadata": {},
   "outputs": [
    {
     "name": "stdout",
     "output_type": "stream",
     "text": [
      "<p style ='paragraf'>Hello Python</p>\n",
      "<a href ='www.google.com' style ='link'>Ini link</a>\n"
     ]
    }
   ],
   "source": [
    "#keword argument menggunakan bintang 2(**)\n",
    "def create_html(tag,text,**attributes):\n",
    "    html = f\"<{tag}\"\n",
    "    \n",
    "    for key, value in attributes.items():\n",
    "        html = html + f\" {key} ='{value}'\"\n",
    "        \n",
    "    html = html + f\">{text}</{tag}>\"\n",
    "    return html\n",
    "html = create_html(\"p\",\"Hello Python\", style = \"paragraf\")\n",
    "print(html)\n",
    "html = create_html(\"a\",\"Ini link\", href =\"www.google.com\", style = \"link\")\n",
    "print(html)"
   ]
  },
  {
   "cell_type": "markdown",
   "metadata": {},
   "source": [
    "## Module"
   ]
  },
  {
   "cell_type": "code",
   "execution_count": 2,
   "metadata": {},
   "outputs": [
    {
     "ename": "ModuleNotFoundError",
     "evalue": "No module named 'function'",
     "output_type": "error",
     "traceback": [
      "\u001b[0;31m---------------------------------------------------------------------------\u001b[0m",
      "\u001b[0;31mModuleNotFoundError\u001b[0m                       Traceback (most recent call last)",
      "\u001b[0;32m<ipython-input-2-9bb73726e5f0>\u001b[0m in \u001b[0;36m<module>\u001b[0;34m\u001b[0m\n\u001b[1;32m      2\u001b[0m \u001b[0;31m# maksudnya kita sudah bisa menggunakan semua method yang ada di di modul\u001b[0m\u001b[0;34m\u001b[0m\u001b[0;34m\u001b[0m\u001b[0;34m\u001b[0m\u001b[0m\n\u001b[1;32m      3\u001b[0m \u001b[0;31m#example\u001b[0m\u001b[0;34m\u001b[0m\u001b[0;34m\u001b[0m\u001b[0;34m\u001b[0m\u001b[0m\n\u001b[0;32m----> 4\u001b[0;31m \u001b[0;32mimport\u001b[0m \u001b[0mfunction\u001b[0m\u001b[0;34m\u001b[0m\u001b[0;34m\u001b[0m\u001b[0m\n\u001b[0m\u001b[1;32m      5\u001b[0m \u001b[0mhello\u001b[0m \u001b[0;34m=\u001b[0m \u001b[0mfunction\u001b[0m\u001b[0;34m.\u001b[0m\u001b[0msay_hello\u001b[0m\u001b[0;34m(\u001b[0m\u001b[0;34m\"Eko\"\u001b[0m\u001b[0;34m)\u001b[0m\u001b[0;34m\u001b[0m\u001b[0;34m\u001b[0m\u001b[0m\n\u001b[1;32m      6\u001b[0m \u001b[0;31m# print(hello)\u001b[0m\u001b[0;34m\u001b[0m\u001b[0;34m\u001b[0m\u001b[0;34m\u001b[0m\u001b[0m\n",
      "\u001b[0;31mModuleNotFoundError\u001b[0m: No module named 'function'"
     ]
    }
   ],
   "source": [
    "# import (nama modul)tanpa extention\n",
    "# maksudnya kita sudah bisa menggunakan semua method yang ada di di modul\n",
    "#example\n",
    "#import function\n",
    "#hello = function.say_hello(\"Eko\")\n",
    "# print(hello)\n",
    "# untuk import beberapa method saja bisa seperti ini\n",
    "# from function import say_hello\n",
    "# from function import total\n",
    "# hello = say_hello(\"Eko\")\n",
    "# print(hello)"
   ]
  },
  {
   "cell_type": "markdown",
   "metadata": {},
   "source": [
    "## Numeric Type"
   ]
  },
  {
   "cell_type": "code",
   "execution_count": 51,
   "metadata": {},
   "outputs": [],
   "source": [
    "# integer = numeric biasa tanpa desimal\n",
    "# float = desimal\n",
    "# complex = real number dan imajinary"
   ]
  },
  {
   "cell_type": "markdown",
   "metadata": {},
   "source": [
    "## String Method"
   ]
  },
  {
   "cell_type": "code",
   "execution_count": 53,
   "metadata": {},
   "outputs": [
    {
     "name": "stdout",
     "output_type": "stream",
     "text": [
      "izzah\n",
      "IZZAH\n",
      "Izzah\n"
     ]
    }
   ],
   "source": [
    "nama = \"izzah\"\n",
    "print(nama)\n",
    "print(nama.upper())\n",
    "print(nama.capitalize())"
   ]
  },
  {
   "cell_type": "markdown",
   "metadata": {},
   "source": [
    "## Program Management Contact"
   ]
  },
  {
   "cell_type": "code",
   "execution_count": null,
   "metadata": {},
   "outputs": [],
   "source": []
  }
 ],
 "metadata": {
  "kernelspec": {
   "display_name": "Python 3",
   "language": "python",
   "name": "python3"
  },
  "language_info": {
   "codemirror_mode": {
    "name": "ipython",
    "version": 3
   },
   "file_extension": ".py",
   "mimetype": "text/x-python",
   "name": "python",
   "nbconvert_exporter": "python",
   "pygments_lexer": "ipython3",
   "version": "3.7.6"
  }
 },
 "nbformat": 4,
 "nbformat_minor": 4
}
