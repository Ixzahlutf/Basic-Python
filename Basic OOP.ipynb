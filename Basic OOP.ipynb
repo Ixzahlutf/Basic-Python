{
 "cells": [
  {
   "cell_type": "markdown",
   "metadata": {},
   "source": [
    "## Pendahuluan OOP"
   ]
  },
  {
   "cell_type": "markdown",
   "metadata": {},
   "source": [
    "#### Programming Paradigma(cara berfikir)\n",
    "##### struktural -> Prosedural programming\n",
    "- dieksekusi berdasarkan urutan\n",
    "- serial\n",
    "##### Object -> Oriented Programming \n",
    "- membantu pemrograman lebih muda dan lebih fleksibel\n",
    "- semua dianggap sebagai objek\n",
    "- menggunakan template (class)untuk grouping\n",
    "- objek bisa saling interaksi kapanpun\n",
    "##### dll\n",
    "\n",
    "##### Class -> Example in Game 5 v 5\n",
    "- Attribute -> Power, Health, defense, armor\n",
    "- Method(yg bisa dilakukan)-> menyerang(), bertahan(), bergerak()\n",
    "- Objek akan mengambil pada attribute dan Method"
   ]
  },
  {
   "cell_type": "code",
   "execution_count": 3,
   "metadata": {},
   "outputs": [
    {
     "name": "stdout",
     "output_type": "stream",
     "text": [
      "<__main__.Hero object at 0x7fd77857db10>\n",
      "{'name': 'Angela', 'health': 100}\n",
      "Angela\n"
     ]
    }
   ],
   "source": [
    "class Hero: #template\n",
    "    pass # konvensi bahwa setelah pendeklarasian class kasi spasi 2\n",
    "  \n",
    "\n",
    "hero1 = Hero() #object/instance (intansiate)\n",
    "hero2 = Hero()\n",
    "hero3 = Hero();\n",
    "\n",
    "hero1.name = \"Angela\"\n",
    "hero1.health = 100\n",
    "\n",
    "hero2.name = \"Valir\"\n",
    "hero2.health = 200\n",
    "\n",
    "hero3.name = \"Gatotkaca\"\n",
    "hero3.health = 1000\n",
    "\n",
    "print(hero1)\n",
    "print(hero1.__dict__) # memperlihatkan hero nya punya apa aja\n",
    "print(hero1.name)"
   ]
  },
  {
   "cell_type": "markdown",
   "metadata": {},
   "source": [
    "## Constructor __init__()\n",
    "- atribute-attribute di masukkan ke class nya dan dipanggil otomatis\n",
    "- fungsi self bisa menggantikan variabel "
   ]
  },
  {
   "cell_type": "code",
   "execution_count": 8,
   "metadata": {},
   "outputs": [
    {
     "name": "stdout",
     "output_type": "stream",
     "text": [
      "Angela\n",
      "150\n",
      "40\n",
      "{'name': 'Angela', 'health': 200, 'power': 10, 'armor': 5}\n",
      "{'name': 'Valir', 'health': 150, 'power': 20, 'armor': 10}\n",
      "{'name': 'Gatotkaca', 'health': 500, 'power': 10, 'armor': 40}\n"
     ]
    }
   ],
   "source": [
    "class Hero: #template\n",
    "    def __init__(self, inputName , inputHealth, inputPower, inputArmor):\n",
    "        self.name = inputName\n",
    "        self.health = inputHealth\n",
    "        self.power = inputPower\n",
    "        self.armor = inputArmor\n",
    "\n",
    "hero1 = Hero(\"Angela\",200,10,5) # akan menjalankan yg ada pada class hero\n",
    "hero2 = Hero(\"Valir\",150,20,10)\n",
    "hero3 = Hero(\"Gatotkaca\",500,10,40)\n",
    "\n",
    "print(hero1.name)\n",
    "print(hero2.health)\n",
    "print(hero3.armor)\n",
    "\n",
    "#Biar kelihatan semuanya pakai.__dict__\n",
    "print(hero1.__dict__)\n",
    "print(hero2.__dict__)\n",
    "print(hero3.__dict__)"
   ]
  },
  {
   "cell_type": "markdown",
   "metadata": {},
   "source": [
    "## Class dan Instance variable\n",
    "- variable statik adalah variabel yang ada dalam class itu sendiri"
   ]
  },
  {
   "cell_type": "code",
   "execution_count": 34,
   "metadata": {},
   "outputs": [
    {
     "name": "stdout",
     "output_type": "stream",
     "text": [
      "membuat hero dengan namaAngela\n",
      "1\n",
      "membuat hero dengan namaValir\n",
      "2\n",
      "membuat hero dengan namaGatotkaca\n",
      "3\n",
      "{'__module__': '__main__', 'jumlah': 3, '__init__': <function Hero.__init__ at 0x7fd778522440>, '__dict__': <attribute '__dict__' of 'Hero' objects>, '__weakref__': <attribute '__weakref__' of 'Hero' objects>, '__doc__': None}\n"
     ]
    }
   ],
   "source": [
    "class Hero: #template\n",
    "    #class variable\n",
    "    jumlah = 0\n",
    "    def __init__(self, inputName , inputHealth, inputPower, inputArmor):\n",
    "        #instance variable\n",
    "        self.name = inputName\n",
    "        self.health = inputHealth\n",
    "        self.power = inputPower\n",
    "        self.armor = inputArmor\n",
    "        Hero.jumlah += 1\n",
    "        print(\"membuat hero dengan nama\" + inputName)\n",
    "hero1 = Hero(\"Angela\",200,10,5) # akan menjalankan yg ada pada class hero\n",
    "print(Hero.jumlah)\n",
    "hero2 = Hero(\"Valir\",150,20,10)\n",
    "print(Hero.jumlah)\n",
    "hero3 = Hero(\"Gatotkaca\",500,10,40)\n",
    "print(Hero.jumlah)\n",
    "\n",
    "\n",
    "#Biar kelihatan semuanya pakai.__dict__\n",
    "print(Hero.__dict__)\n"
   ]
  },
  {
   "cell_type": "markdown",
   "metadata": {},
   "source": [
    "## Method\n",
    "- misalnya ketika di klik melakukan sesuatu atau menuju ke suatu website\n",
    "- method yang dilakukan terhadap objek atau objek melakukan interaksi dengan yang lain\n",
    "#### Method untuk Objek\n",
    "- Method Interactive -> Client -> bergerak\n",
    "- Object Interactive -> Object -> antara 2 object\n"
   ]
  },
  {
   "cell_type": "code",
   "execution_count": 33,
   "metadata": {},
   "outputs": [
    {
     "name": "stdout",
     "output_type": "stream",
     "text": [
      "Namaku adalah Angela\n",
      "210\n"
     ]
    }
   ],
   "source": [
    "class Hero :\n",
    "    jumlah_hero=0\n",
    "    \n",
    "    \n",
    "    def __init__(self, inputName , inputHealth, inputPower, inputArmor):\n",
    "        self.name = inputName\n",
    "        self.health = inputHealth\n",
    "        self.power = inputPower\n",
    "        self.armor = inputArmor\n",
    "        Hero.jumlah_hero += 1\n",
    "        \n",
    "    #void function -> method tanpa return\n",
    "    def siapa(self) :\n",
    "        print(\"Namaku adalah \" + self.name)\n",
    "    #method dengan argumen\n",
    "    def healthUp(self,up):\n",
    "        self.health += up\n",
    "    #method dengan return -> mengebalikan nilai pada kita\n",
    "    def getHealth(self) :\n",
    "        return self.health\n",
    "              \n",
    "hero1 = Hero(\"Angela\",200,10,5) # akan menjalankan yg ada pada class hero\n",
    "hero2 = Hero(\"Jawhead\",150,20,10)\n",
    "\n",
    "hero1.siapa()\n",
    "hero1.healthUp(10)\n",
    "print(hero1.getHealth())\n"
   ]
  },
  {
   "cell_type": "markdown",
   "metadata": {},
   "source": [
    "## Latihan OOP Sederhana"
   ]
  },
  {
   "cell_type": "code",
   "execution_count": 6,
   "metadata": {},
   "outputs": [
    {
     "name": "stdout",
     "output_type": "stream",
     "text": [
      "Miya menyerang Lesley\n",
      "Lesley diserang Miya\n",
      "Serangan Terasa : 2.0\n",
      " Darah Lesleytersisa 98.0\n",
      "\n",
      "\n",
      "Miya menyerang Lesley\n",
      "Lesley diserang Miya\n",
      "Serangan Terasa : 2.0\n",
      " Darah Lesleytersisa 96.0\n",
      "\n",
      "\n",
      "Miya menyerang Lesley\n",
      "Lesley diserang Miya\n",
      "Serangan Terasa : 2.0\n",
      " Darah Lesleytersisa 94.0\n",
      "\n",
      "\n",
      "\n",
      "\n"
     ]
    }
   ],
   "source": [
    "class Hero :\n",
    "    def __init__(self, name, health,attackPower, armorNumber) :\n",
    "        self.name = name\n",
    "        self.health = health\n",
    "        self.attackPower = attackPower\n",
    "        self.armorNumber = armorNumber\n",
    "    \n",
    "    def serang(self,lawan):\n",
    "        print(self.name +' menyerang '+ lawan.name)\n",
    "        lawan.diserang(self, self.attackPower)\n",
    "    \n",
    "    def diserang(self,lawan,attackPower_lawan):\n",
    "        print(self.name + ' diserang ' + lawan.name )\n",
    "        attack_diterima = attackPower_lawan/self.armorNumber\n",
    "        print('Serangan Terasa : ' + str(attack_diterima))\n",
    "        self.health -= attack_diterima\n",
    "        print(\" Darah \" + self.name + \"tersisa \" + str(self.health))\n",
    "Miya = Hero(\"Miya\",100,20,5)\n",
    "Lesley = Hero (\"Lesley\",100,10,10)\n",
    "\n",
    "Miya.serang(Lesley)\n",
    "print(\"\\n\")\n",
    "Miya.serang(Lesley)\n",
    "print(\"\\n\")\n",
    "Miya.serang(Lesley)\n",
    "print(\"\\n\")\n",
    "print(\"\\n\")"
   ]
  },
  {
   "cell_type": "code",
   "execution_count": null,
   "metadata": {},
   "outputs": [],
   "source": []
  }
 ],
 "metadata": {
  "kernelspec": {
   "display_name": "Python 3",
   "language": "python",
   "name": "python3"
  },
  "language_info": {
   "codemirror_mode": {
    "name": "ipython",
    "version": 3
   },
   "file_extension": ".py",
   "mimetype": "text/x-python",
   "name": "python",
   "nbconvert_exporter": "python",
   "pygments_lexer": "ipython3",
   "version": "3.7.6"
  }
 },
 "nbformat": 4,
 "nbformat_minor": 4
}
