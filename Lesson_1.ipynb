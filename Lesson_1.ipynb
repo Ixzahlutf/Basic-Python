{
  "nbformat": 4,
  "nbformat_minor": 0,
  "metadata": {
    "colab": {
      "name": "Lesson 1",
      "provenance": []
    },
    "kernelspec": {
      "name": "python3",
      "display_name": "Python 3"
    }
  },
  "cells": [
    {
      "cell_type": "markdown",
      "metadata": {
        "id": "MOqNT-knHN7Z",
        "colab_type": "text"
      },
      "source": [
        "Ketika mempelajari *Machine Learning* kita akan menemukan banyak istilah berbeda misalnya, *artificial intelligence*(kecerdasan buatan), *machine learning*, *neural network*(jaringan saraf) dan *deep learning*. "
      ]
    },
    {
      "cell_type": "markdown",
      "metadata": {
        "id": "LXcjuFUFODtQ",
        "colab_type": "text"
      },
      "source": [
        "**artificial intelligence**(kecerdasan buatan) : Bidang *computer science* yang bertujuan untuk membuat komputer mencapai kecerdasan gaya manusia. Untuk mencapai tujuan tersebut, ada beberapa pendekatan yang perlu dilakukan :\n",
        "*   **Machine Learning** : Serangkaian teknik terkait di mana komputer dilatih untuk melakukan tugas tertentu daripada dengan memprogramnya secara eksplisit.\n",
        "*   **Neural Network** : Sebuah konstruksi dalam *Machine Learning* yang terinspirasi oleh jaringan *neuro* (sel-sel saraf) di otak biologis. Jarinan saraf adalah bagian mendasar dari *deep learning*.\n",
        "*   **Deep Learning** : Subbidang *Machine Learning* yang menggunakan jaringan saraf *multi-layered. Seringkali, *machine learning* dan *deep learning* digunakan secara bergantian.\n",
        "\n",
        "\n"
      ]
    },
    {
      "cell_type": "markdown",
      "metadata": {
        "id": "aeWuun9IRCUF",
        "colab_type": "text"
      },
      "source": [
        "*Machine learning* dan *deep learning* juga memiliki banyak subbidang, cabang dan teknik khusus. Contohnya **Supervised Learning** dan **Unsupervised Learning**."
      ]
    },
    {
      "cell_type": "markdown",
      "metadata": {
        "id": "HbYEmMpG5_Pr",
        "colab_type": "text"
      },
      "source": [
        "# Aplications of Machine Learning"
      ]
    },
    {
      "cell_type": "markdown",
      "metadata": {
        "id": "p8MpiOaT2CRX",
        "colab_type": "text"
      },
      "source": [
        "**Machine Learning** telah ada dalam sastra tiap industri. Contohnya algoritma *machine learning* sekarang bisa mendeteksi kanker kulit yang akuratnya dengan dokter kulit bersertifikat. Dalam hal ini jaringan saraf yang dilatih pada ratusan ribu gambar kanker kulit dan belajar mengenali gambar kanker kulit dari gambar tunggal. Contoh lain yaitu mobl self-driving, berkat *machine learning*, kita sekarang dapat mengembangkan kendaraan otonom yang dapat mengemudi sendiri hanya dengan menggunakan data dari berbagai sensor. Contoh lainnya lagi adalah game, algoritma *machine learning* dapat digunakan untuk mengajar komputer cara bermain game pada kinerja manusia super. Misalnya game Go, dimana *google deep mind* digunakan algoritma *machine learning* untuk mengalahkan pemain Go terbaik dunia"
      ]
    },
    {
      "cell_type": "markdown",
      "metadata": {
        "id": "ENzZa_Ew6P5w",
        "colab_type": "text"
      },
      "source": [
        "# Prerequest - TensorFlow"
      ]
    },
    {
      "cell_type": "markdown",
      "metadata": {
        "id": "9_LN2hG56dFK",
        "colab_type": "text"
      },
      "source": [
        "cara menggunakan TensorFlow dengan Python. *Machine Learning* sangat penting karena merupakan bahasa paling populer di ilmu data.  Colab memungkinkan kita melakukan pengembangan TensorFlow di notebook unteraktif yang dihosting di Google cloud."
      ]
    },
    {
      "cell_type": "markdown",
      "metadata": {
        "id": "Fa7cNvJIEpvH",
        "colab_type": "text"
      },
      "source": [
        "Colab adalah pegembangan Python yang berjalan di browser menggunakan google cloud. "
      ]
    },
    {
      "cell_type": "code",
      "metadata": {
        "id": "lFv4eZ1dFth3",
        "colab_type": "code",
        "colab": {
          "base_uri": "https://localhost:8080/",
          "height": 35
        },
        "outputId": "179087c8-d7d5-49d4-ac57-cebc09d7d610"
      },
      "source": [
        "print(\"Hello World\")"
      ],
      "execution_count": null,
      "outputs": [
        {
          "output_type": "stream",
          "text": [
            "Hello World\n"
          ],
          "name": "stdout"
        }
      ]
    },
    {
      "cell_type": "code",
      "metadata": {
        "id": "0OmUhVZZEkSD",
        "colab_type": "code",
        "colab": {
          "base_uri": "https://localhost:8080/",
          "height": 384
        },
        "outputId": "b0340569-6141-4c4f-b19e-3789d529d899"
      },
      "source": [
        "def HelloWorldXY(x, y):\n",
        "  if (x < 10):\n",
        "    print(\"Hello World, x was < 10\")\n",
        "  elif (x < 20):\n",
        "    print(\"Hello World, x was >= 10 but < 20\")\n",
        "  else:\n",
        "    print(\"Hello World, x was >= 20\")\n",
        "  return x + y\n",
        "\n",
        "for i in range(8, 25, 5):  # i=8, 13, 18, 23 (start, stop, step)\n",
        "  print(\"--- Now running with i: {}\".format(i))\n",
        "  r = HelloWorldXY(i,i)\n",
        "  print(\"Result from HelloWorld: {}\".format(r))\n",
        "  \n",
        "  print(HelloWorldXY(1,2))"
      ],
      "execution_count": null,
      "outputs": [
        {
          "output_type": "stream",
          "text": [
            "--- Now running with i: 8\n",
            "Hello World, x was < 10\n",
            "Result from HelloWorld: 16\n",
            "Hello World, x was < 10\n",
            "3\n",
            "--- Now running with i: 13\n",
            "Hello World, x was >= 10 but < 20\n",
            "Result from HelloWorld: 26\n",
            "Hello World, x was < 10\n",
            "3\n",
            "--- Now running with i: 18\n",
            "Hello World, x was >= 10 but < 20\n",
            "Result from HelloWorld: 36\n",
            "Hello World, x was < 10\n",
            "3\n",
            "--- Now running with i: 23\n",
            "Hello World, x was >= 20\n",
            "Result from HelloWorld: 46\n",
            "Hello World, x was < 10\n",
            "3\n"
          ],
          "name": "stdout"
        }
      ]
    },
    {
      "cell_type": "markdown",
      "metadata": {
        "id": "2l5rGudVEgNE",
        "colab_type": "text"
      },
      "source": [
        "If you want a loop starting at 0 to 2 (exclusive) you could do any of the following\n",
        "\n",
        "\n",
        "\n",
        "\n",
        "\n",
        "\n",
        "\n"
      ]
    },
    {
      "cell_type": "code",
      "metadata": {
        "id": "Dn9FOeSlGn89",
        "colab_type": "code",
        "colab": {
          "base_uri": "https://localhost:8080/",
          "height": 237
        },
        "outputId": "3eeb9857-26d6-438e-d872-cd5d7474619c"
      },
      "source": [
        "print(\"Iterate over the items. `range(2)` is like a list [0,1].\")\n",
        "for i in range(2):\n",
        "  print(i)\n",
        "\n",
        "print(\"Iterate over an actual list.\")\n",
        "for i in [0,1]:\n",
        "  print(i)\n",
        "\n",
        "print(\"While works\")\n",
        "i = 0\n",
        "while i < 2:\n",
        "  print(i)\n",
        "  i += 1\n",
        "\n",
        "  print(\"Python supports standard key words like continue and break\")\n",
        "while True:\n",
        "  print(\"Entered while\")\n",
        "  break"
      ],
      "execution_count": null,
      "outputs": [
        {
          "output_type": "stream",
          "text": [
            "Iterate over the items. `range(2)` is like a list [0,1].\n",
            "0\n",
            "1\n",
            "Iterate over an actual list.\n",
            "0\n",
            "1\n",
            "While works\n",
            "0\n",
            "Python supports standard key words like continue and break\n",
            "1\n",
            "Python supports standard key words like continue and break\n",
            "Entered while\n"
          ],
          "name": "stdout"
        }
      ]
    },
    {
      "cell_type": "markdown",
      "metadata": {
        "id": "nAC-otbVEW3R",
        "colab_type": "text"
      },
      "source": [
        "# Numpy and list"
      ]
    },
    {
      "cell_type": "code",
      "metadata": {
        "id": "OlwsMYW-EkPF",
        "colab_type": "code",
        "colab": {}
      },
      "source": [
        "import numpy as np  # Make numpy available using np.\n",
        "\n",
        "# Create a numpy array, and append an element\n",
        "a = np.array([\"Hello\", \"World\"])\n",
        "a = np.append(a, \"!\")\n",
        "print(\"Current array: {}\".format(a))\n",
        "print(\"Printing each element\")\n",
        "for i in a:\n",
        "  print(i)\n",
        "\n",
        "print(\"\\nPrinting each element and their index\")\n",
        "for i,e in enumerate(a):\n",
        "  print(\"Index: {}, was: {}\".format(i, e))\n",
        "\n",
        "print(\"\\nShowing some basic math on arrays\")\n",
        "b = np.array([0,1,4,3,2])\n",
        "print(\"Max: {}\".format(np.max(b)))\n",
        "print(\"Average: {}\".format(np.average(b)))\n",
        "print(\"Max index: {}\".format(np.argmax(b)))\n",
        "\n",
        "print(\"\\nYou can print the type of anything\")\n",
        "print(\"Type of b: {}, type of b[0]: {}\".format(type(b), type(b[0])))\n",
        "\n",
        "print(\"\\nUse numpy to create a [3,3] dimension array with random number\")\n",
        "c = np.random.rand(3, 3)\n",
        "print(c)\n",
        "\n",
        "print(\"\\nYou can print the dimensions of arrays\")\n",
        "print(\"Shape of a: {}\".format(a.shape))\n",
        "print(\"Shape of b: {}\".format(b.shape))\n",
        "print(\"Shape of c: {}\".format(c.shape))\n",
        "print(\"...Observe, Python uses both [0,1,2] and (0,1,2) to specify lists\")"
      ],
      "execution_count": null,
      "outputs": []
    }
  ]
}