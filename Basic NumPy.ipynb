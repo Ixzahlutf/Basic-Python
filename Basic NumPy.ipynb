{
 "cells": [
  {
   "cell_type": "markdown",
   "metadata": {},
   "source": [
    "## Basic NumPy"
   ]
  },
  {
   "cell_type": "markdown",
   "metadata": {},
   "source": [
    "### Instalasi NumPy\n",
    "Python ->     package     -> Numpy (tipe data array basic)\n",
    "          sains komputasi -> Matplotlib\n",
    "                          -> Sympy (simbolik matematik)\n",
    "                          -> Scypy (package lebih lengkap)\n",
    "                          -> dll\n",
    "                          \n",
    "biar mudah menggunakan numpy dibuat virtual Environment\n",
    "pyhton itu sendiri di taro dalam sebuah folder dan semua diakses dari situ biar lebih mudah dan lebih kelihatan package-packace yang digunakan\n",
    "- sangat berguna jika kita melakukan operasi matematika untuk settiap komponen dari arraynya"
   ]
  },
  {
   "cell_type": "code",
   "execution_count": 2,
   "metadata": {},
   "outputs": [
    {
     "name": "stdout",
     "output_type": "stream",
     "text": [
      "[1 2 3 4 5]\n",
      "[1, 2, 3, 4, 5]\n",
      "[2 3 4 5 6]\n",
      "[1, 2, 3, 4, 5, 1]\n"
     ]
    }
   ],
   "source": [
    "import numpy as np\n",
    "a = np.array([1,2,3,4,5])\n",
    "b = [1,2,3,4,5]\n",
    "\n",
    "print(a) #bedanya numpy array ga ada komanya\n",
    "print(b)\n",
    "\n",
    "a = a + 1\n",
    "b = b + [1]\n",
    "\n",
    "print(a) #bedanya numpy array menambahkan 1 di tiap komponen\n",
    "print(b) #menambahkan komponen pada list"
   ]
  },
  {
   "cell_type": "markdown",
   "metadata": {},
   "source": [
    "### Membuat Numpy Array\n",
    "untuk membuat NumPy array ada beberapa cara yg dapat digunakan :\n"
   ]
  },
  {
   "cell_type": "code",
   "execution_count": 32,
   "metadata": {},
   "outputs": [
    {
     "name": "stdout",
     "output_type": "stream",
     "text": [
      "Membuat vektor \n",
      "[1 2 3 4 5]\n",
      "[1.2 2.4 5.  6.  7. ]\n",
      "membuat vektor dengan range -> (batas bawah,batas atas, stepnya mau brapa?)\n",
      "[1 3 5 7 9]\n",
      "membuat linear space -> (batas bawah, batas atas, exmpl 4(menampilkan 4 angka disalam range 1-10 dengan jarak yg sama)) membagi 1 - 10 menjadi beberapa bagian yg di inginkan\n",
      "[ 1.  4.  7. 10.]\n",
      "array multidimensi / matrix : ([(baris pertama), (baris kedua),(dst)])\n",
      "[[1 2 3]\n",
      " [4 5 6]]\n",
      "matrix dengn nilai 0 :([baris,kolom])\n",
      "[[0. 0. 0.]\n",
      " [0. 0. 0.]\n",
      " [0. 0. 0.]\n",
      " [0. 0. 0.]\n",
      " [0. 0. 0.]]\n",
      "matrix dengn nilai 1 :([baris,kolom])\n",
      "[[1. 1. 1.]\n",
      " [1. 1. 1.]\n",
      " [1. 1. 1.]\n",
      " [1. 1. 1.]\n",
      " [1. 1. 1.]]\n",
      "mmatrix identitas( matriks yang komponennya 0 tapi diagonalnya 1):\n",
      "[[1. 0. 0. 0. 0.]\n",
      " [0. 1. 0. 0. 0.]\n",
      " [0. 0. 1. 0. 0.]\n",
      " [0. 0. 0. 1. 0.]\n",
      " [0. 0. 0. 0. 1.]]\n",
      "[[1. 0. 0. 0. 0.]\n",
      " [0. 1. 0. 0. 0.]\n",
      " [0. 0. 1. 0. 0.]\n",
      " [0. 0. 0. 1. 0.]\n",
      " [0. 0. 0. 0. 1.]]\n"
     ]
    }
   ],
   "source": [
    "import numpy as np\n",
    "#membuat vektor\n",
    "print(\"Membuat vektor \") \n",
    "a = np.array([1,2,3,4,5])\n",
    "b = np.array([1.2,2.4,5,6,7])\n",
    "print(a)\n",
    "print(b)\n",
    "\n",
    "# membuat vektor dengan range\n",
    "print(\"membuat vektor dengan range -> (batas bawah,batas atas, stepnya mau brapa?)\")\n",
    "c = np.arange(1,10,2) #kalau range aja itu fungsi python\n",
    "print(c)\n",
    "\n",
    "# membuat linear space\n",
    "print(\"membuat linear space -> (batas bawah, batas atas, exmpl 4(menampilkan 4 angka disalam range 1-10 dengan jarak yg sama)) membagi 1 - 10 menjadi beberapa bagian yg di inginkan\")\n",
    "d = np.linspace(1,10,4)\n",
    "print(d)\n",
    "\n",
    "# array multidimensi / matrix\n",
    "print(\"array multidimensi / matrix : ([(baris pertama), (baris kedua),(dst)])\")\n",
    "e = np.array( [(1,2,3),(4,5,6)] )\n",
    "print(e)\n",
    "\n",
    "# matrix dengan nilai 0\n",
    "print(\"matrix dengn nilai 0 :([baris,kolom])\")\n",
    "f = np.zeros([5,3])\n",
    "print(f)\n",
    "\n",
    "# matrix dengan nilai 1\n",
    "print(\"matrix dengn nilai 1 :([baris,kolom])\")\n",
    "g = np.ones([5,3])\n",
    "print(g)\n",
    "\n",
    "# matrix identitas\n",
    "print(\"matrix identitas( matriks yang komponennya 0 tapi diagonalnya 1):\")\n",
    "h1 = np.identity(5)\n",
    "h2 = np.eye(5)\n",
    "print(h1)\n",
    "print(h2)"
   ]
  },
  {
   "cell_type": "markdown",
   "metadata": {},
   "source": [
    "### Operasi Aritmatika"
   ]
  },
  {
   "cell_type": "code",
   "execution_count": 51,
   "metadata": {},
   "outputs": [
    {
     "name": "stdout",
     "output_type": "stream",
     "text": [
      "a = [1, 2, 3, 4, 5]\n",
      "b = [6, 7, 8, 9, 10]\n",
      "hasil(list python) a + b = [1, 2, 3, 4, 5, 6, 7, 8, 9, 10]\n",
      "\n",
      "----ELEMENTWICE Operation----\n",
      "hasil(numpy) anp + bnp = [ 7  9 11 13 15]\n",
      "hasil(numpy) anp - bnp = [-5 -5 -5 -5 -5]\n",
      "hasil(numpy) anp x bnp = [ 6 14 24 36 50]\n",
      "hasil(numpy) anp : bnp = [0.16666667 0.28571429 0.375      0.44444444 0.5       ]\n",
      "hasil(numpy) anp kuadrat  = [ 1  4  9 16 25]\n",
      "c = [[1 2 3]\n",
      " [4 5 6]]\n",
      "d = [[ 7  8  9]\n",
      " [10 11 12]]\n",
      "hasil(numpy) c + d = [[ 8 10 12]\n",
      " [14 16 18]]\n",
      "hasil(numpy) anp x bnp = [[ 7 16 27]\n",
      " [40 55 72]]\n",
      "berbeda dengan hasil kali matrix\n"
     ]
    }
   ],
   "source": [
    "import numpy as np\n",
    "a = [1,2,3,4,5]\n",
    "b = [6,7,8,9,10]\n",
    "print(\"a = \" + str(a))\n",
    "print(\"b = \" + str(b))\n",
    "hasil = a+b\n",
    "print(f\"hasil(list python) a + b = {hasil}\")\n",
    "print(\"\\n----ELEMENTWICE Operation----\")\n",
    "#penjumlahan\n",
    "anp = np.array(a)\n",
    "bnp = np.array(b)\n",
    "hasilnp = anp+bnp\n",
    "print (f\"hasil(numpy) anp + bnp = {hasilnp}\")\n",
    "#pengurangan\n",
    "hasilpeng = anp-bnp\n",
    "print (f\"hasil(numpy) anp - bnp = {hasilpeng}\")\n",
    "#perkalian\n",
    "hasilkali = anp*bnp\n",
    "print (f\"hasil(numpy) anp x bnp = {hasilkali}\")\n",
    "#pembagiab\n",
    "hasilbagi = anp/bnp\n",
    "print (f\"hasil(numpy) anp : bnp = {hasilbagi}\")\n",
    "#kuadrat\n",
    "hasilnp = anp**2\n",
    "print (f\"hasil(numpy) anp kuadrat  = {hasilnp}\")\n",
    "#multidimansi array numpy\n",
    "c = np.array(([1,2,3],[4,5,6]))\n",
    "d = np.array (([7,8,9],[10,11,12]))\n",
    "print(\"c = \" + str(c))\n",
    "print(\"d = \" + str(d))\n",
    "hasiln = c+d\n",
    "print (f\"hasil(numpy) c + d = {hasiln}\")\n",
    "hasilp = c*d\n",
    "print (f\"hasil(numpy) anp x bnp = {hasilp}\")\n",
    "print(\"berbeda dengan hasil kali matrix\")"
   ]
  },
  {
   "cell_type": "markdown",
   "metadata": {},
   "source": [
    "### Indexing, Slicing, dan Iterasi"
   ]
  },
  {
   "cell_type": "code",
   "execution_count": 59,
   "metadata": {},
   "outputs": [
    {
     "name": "stdout",
     "output_type": "stream",
     "text": [
      "[ 0  1  4  9 16 25 36 49 64 81]\n",
      "Elemen ke 1 dari a adalal 0\n",
      "Elemen ke 7 dari a adalal 36\n",
      "Elemen ke terakhir dari a adalal 81\n",
      "Elemen dari 1-6 adalah [ 0  1  4  9 16 25]\n",
      "Elemen dari 4-terakhir adalah [ 9 16 25 36 49 64 81]\n",
      "Elemen dari awal-5 adalah [ 0  1  4  9 16]\n",
      "value =  0\n",
      "value =  1\n",
      "value =  4\n",
      "value =  9\n",
      "value =  16\n",
      "value =  25\n",
      "value =  36\n",
      "value =  49\n",
      "value =  64\n",
      "value =  81\n"
     ]
    }
   ],
   "source": [
    "import numpy as np\n",
    "\n",
    "a = np.arange(10)**2\n",
    "print(a)\n",
    "#Mengambil nilai(indexing)\n",
    "print(\"Elemen ke 1 dari a adalal\", a[0])\n",
    "print(\"Elemen ke 7 dari a adalal\", a[6])\n",
    "print(\"Elemen ke terakhir dari a adalal\", a[-1])\n",
    "#Slicing\n",
    "print(\"Elemen dari 1-6 adalah\",a[0:6])\n",
    "print(\"Elemen dari 4-terakhir adalah\",a[3:])\n",
    "print(\"Elemen dari awal-5 adalah\",a[:5])\n",
    "#Iterasi\n",
    "for i in a :\n",
    "    print(\"value = \",i)"
   ]
  },
  {
   "cell_type": "markdown",
   "metadata": {},
   "source": [
    "### Perkalian Matrix"
   ]
  },
  {
   "cell_type": "code",
   "execution_count": 77,
   "metadata": {
    "scrolled": true
   },
   "outputs": [
    {
     "name": "stdout",
     "output_type": "stream",
     "text": [
      "matrix a:\n",
      "[[1 2]\n",
      " [3 5]]\n",
      "matrix b:\n",
      "[[1. 1.]\n",
      " [1. 1.]]\n",
      "perkalian biasa \n",
      "a*b\n",
      "[[1. 2.]\n",
      " [3. 5.]]\n",
      "a. Perkalian dot\n",
      "Hasil perkalian dot na.b = \n",
      " [[3. 3.]\n",
      " [8. 8.]]\n",
      "Hasil perkalian dot a.b = \n",
      " [[3. 3.]\n",
      " [8. 8.]]\n"
     ]
    }
   ],
   "source": [
    "import numpy as np\n",
    "a = np.array(([1,2],\n",
    "              [3,5]))\n",
    "b = np.ones([2,2])\n",
    "print(\"matrix a:\")\n",
    "print(a)\n",
    "print(\"matrix b:\")\n",
    "print(b)\n",
    "#perkalian biasa\n",
    "c = a*b\n",
    "print(\"perkalian biasa \\na*b\")\n",
    "print(c)\n",
    "#Perkalian matrix ada 2 cara\n",
    "print(\"a. Perkalian dot\")\n",
    "c1 = np.dot(a,b)\n",
    "print(\"Hasil perkalian dot na.b = \\n\",c1)\n",
    "c2 = a.dot(b)\n",
    "print(\"Hasil perkalian dot a.b = \\n\",c2)"
   ]
  },
  {
   "cell_type": "markdown",
   "metadata": {},
   "source": [
    "### Manipulasi Matriks\n",
    "- Transpose : mengubah baris menjadi kolom\n",
    "- Flatten : menjadikan matrix 1 baris horizontal\n",
    "- Reshape : mengubah bentuk matriks\n",
    "- Resize : mengubah matriks sesuai dengan ukuran yang telah ditentukan"
   ]
  },
  {
   "cell_type": "code",
   "execution_count": 86,
   "metadata": {},
   "outputs": [
    {
     "name": "stdout",
     "output_type": "stream",
     "text": [
      "matrix a dengan ukuran : (2, 3)\n",
      "[[1 2 3]\n",
      " [4 5 6]]\n",
      "\n",
      "Transpose matriks : mengubah baris menjadi kolom\n",
      "transpose  matrix dari a:\n",
      "[[1 4]\n",
      " [2 5]\n",
      " [3 6]]\n",
      "[[1 4]\n",
      " [2 5]\n",
      " [3 6]]\n",
      "[[1 4]\n",
      " [2 5]\n",
      " [3 6]]\n",
      "\n",
      "flatten array,vektor baris : menjadikan matrix 1 baris\n",
      "flatten matrix a:\n",
      "[1 2 3 4 5 6]\n",
      "\n",
      "Reshape matrix :mengubah ukuran matrix\n",
      "reshape matrix a :\n",
      "[[1 2]\n",
      " [3 4]\n",
      " [5 6]]\n",
      "\n",
      "Resize matrix : akan merubah a\n",
      "resize matrix a :\n",
      "[[1 2]\n",
      " [3 4]\n",
      " [5 6]]\n"
     ]
    }
   ],
   "source": [
    "import numpy as np\n",
    "\n",
    "a = np.array(([1,2,3],\n",
    "              [4,5,6]\n",
    "              ))\n",
    "print(\"matrix a dengan ukuran :\",a.shape)\n",
    "print(a)\n",
    "\n",
    "print(\"\\nTranspose matriks : mengubah baris menjadi kolom\")\n",
    "print(\"transpose  matrix dari a:\")\n",
    "#cara 1\n",
    "print(a.transpose())\n",
    "#cara 2\n",
    "print(np.transpose(a))\n",
    "#cara 3\n",
    "print(a.T)\n",
    "#nilai a tetap tidak berubah\n",
    "\n",
    "print(\"\\nflatten array,vektor baris : menjadikan matrix 1 baris\")\n",
    "print(\"flatten matrix a:\")\n",
    "print(a.ravel()) # cara lainnya sama seperti cara 2 dan 3 diatas\n",
    "\n",
    "print(\"\\nReshape matrix :mengubah ukuran matrix\")\n",
    "print(\"reshape matrix a :\")\n",
    "print(a.reshape(3,2))\n",
    "\n",
    "print(\"\\nResize matrix : akan merubah matrix a\")\n",
    "print(\"resize matrix a :\")\n",
    "a.resize(3,2)\n",
    "print(a)\n"
   ]
  },
  {
   "cell_type": "markdown",
   "metadata": {},
   "source": [
    "### Stacking Matrix \n",
    "Menumpuk matrix ->Horizontal dan vertical"
   ]
  },
  {
   "cell_type": "code",
   "execution_count": 106,
   "metadata": {},
   "outputs": [
    {
     "name": "stdout",
     "output_type": "stream",
     "text": [
      "a =  [1 2 3]\n",
      "b =  [4 5 6]\n",
      "Stacking Horizontal a,b:\n",
      " [1 2 3 4 5 6]\n",
      "Stacking Vertical b,a\n",
      " [[4 5 6]\n",
      " [1 2 3]]\n",
      "A = \n",
      " [[0. 0. 0.]\n",
      " [0. 0. 0.]]\n",
      "B = \n",
      " [[1. 1. 1.]\n",
      " [1. 1. 1.]]\n",
      "Stacking Matrix Horizontal :\n",
      " [[0. 0. 0. 1. 1. 1.]\n",
      " [0. 0. 0. 1. 1. 1.]]\n",
      "Stacking Matrix Vertical :\n",
      " [[0. 0. 0.]\n",
      " [0. 0. 0.]\n",
      " [1. 1. 1.]\n",
      " [1. 1. 1.]]\n"
     ]
    }
   ],
   "source": [
    "import numpy as np\n",
    "a = np.array([1,2,3])\n",
    "b = np.array([4,5,6])\n",
    "aMat = np.zeros((2,3))\n",
    "bMat = np.ones((2,3))\n",
    "print(\"a = \",a)\n",
    "print(\"b = \",b)\n",
    "# stacking matrix, menumpuk matrix\n",
    "c = np.hstack((a,b))#h mean horizontal \n",
    "print(\"Stacking Horizontal a,b:\\n\",c)\n",
    "d = np.vstack((b,a))#v mean vertical \n",
    "print(\"Stacking Vertical b,a\\n\",d)\n",
    "print(\"A = \\n\", aMat)\n",
    "print(\"B = \\n\",bMat)\n",
    "cMat = np.hstack((aMat,bMat))#jumlah baris harus sama\n",
    "dMat = np.vstack((aMat,bMat))# jumlah kolom harus sama\n",
    "print(\"Stacking Matrix Horizontal :\\n\",cMat)\n",
    "print(\"Stacking Matrix Vertical :\\n\",dMat)"
   ]
  },
  {
   "cell_type": "markdown",
   "metadata": {},
   "source": [
    "### Cara Advance mebuat Array\n",
    "- membuat matrix dengan tipe data tertentu\n",
    "- membuat array dengan menggunakan function\n",
    "- membuat array atau matrix dengan menggunakan iterasi\n",
    "- membuat multitype array"
   ]
  },
  {
   "cell_type": "code",
   "execution_count": 136,
   "metadata": {},
   "outputs": [
    {
     "name": "stdout",
     "output_type": "stream",
     "text": [
      "membuat matrix dengan tipe data tertentu\n",
      "[[1. 2. 3.]\n",
      " [4. 5. 6.]]\n",
      "membuat array dengan menggunakan function\n",
      "kolom kuadrat(ukuran matrix 1 x 10) : [[ 0  1  4  9 16 25 36 49 64 81]]\n",
      "kolom+baris :\n",
      " [[0. 1.]\n",
      " [1. 2.]\n",
      " [2. 3.]\n",
      " [3. 4.]]\n",
      "membuat array atau matrix dengan menggunakan iterasi\n",
      "[ 0  2  4  6  8 10 12]\n",
      "membuat multitype array\n",
      "(b'badi', 150)\n",
      "[('badi', 150), ('adzan', 168), ('aminah', 148)]\n"
     ]
    }
   ],
   "source": [
    "import numpy as np\n",
    "\n",
    "print(\"membuat matrix dengan tipe data tertentu\")\n",
    "a = np.array(([1,2,3],[4,5,6]),dtype = float)\n",
    "print(a)\n",
    "\n",
    "print(\"membuat array dengan menggunakan function\")\n",
    "def kuadrat(baris,kolom):\n",
    "    return kolom**2\n",
    "b = np.fromfunction(kuadrat,(1,10),dtype = int)#(fungsi,ukuran matrix,tipe)\n",
    "print(\"kolom kuadrat(ukuran matrix 1 x 10) :\",b)\n",
    "def jumlah(baris,kolom):\n",
    "    return (kolom+ baris)\n",
    "c = np.fromfunction(jumlah,(4,2), dtype = float)\n",
    "print (\"kolom+baris :\\n\",c)\n",
    "\n",
    "print(\"membuat array atau matrix dengan menggunakan iterasi\")\n",
    "iterable = (x*2 for x in range(7))\n",
    "d = np.fromiter(iterable, dtype = int)\n",
    "print(d)\n",
    "\n",
    "print(\"membuat multitype array\")\n",
    "dtipe = [('nama','S255'),('tinggi',int)]\n",
    "data = [('badi',150),\n",
    "        ('adzan',168),\n",
    "        (\"aminah\",148)]\n",
    "e = np.array(data,dtype = dtipe)\n",
    "print(e[0])\n",
    "print(data)"
   ]
  },
  {
   "cell_type": "markdown",
   "metadata": {},
   "source": [
    "### Sorting NumPy Array\n",
    "mengurutkan atau ordering dari array menggunakan numpy\n",
    "- floor = membulatkan kebawah\n",
    "- argmax (argumen maximun) = posisi dari nilai max\n",
    "- argmin (argumen minimun) = posisi dari nilai min\n",
    "- argsort (argumen sort) = posisi dari urutan terkecil-terbesar\n"
   ]
  },
  {
   "cell_type": "markdown",
   "metadata": {},
   "source": [
    "#### 1 dimensi"
   ]
  },
  {
   "cell_type": "code",
   "execution_count": 155,
   "metadata": {},
   "outputs": [
    {
     "name": "stdout",
     "output_type": "stream",
     "text": [
      "a : [[-3. -6. -9.  3.  2.  2.]]\n",
      "nilai max dari a =  3.0\n",
      "posisi max dari a =  3\n",
      "nilai min dari a =  -9.0\n",
      "posisi min dari a =  2\n",
      "Mengurutkan Nilai\n",
      "mengurutkan nilai a dari terkecil-terbesar :\n",
      "[[-9. -6. -3.  2.  2.  3.]]\n",
      "Posisi nilai terkecil->terbesa  :\n",
      "r [[2 1 0 4 5 3]]\n"
     ]
    }
   ],
   "source": [
    "import numpy as np\n",
    "\n",
    "a = np.floor(np.random.randn(1,6)*10)\n",
    "print(\"a :\",a)\n",
    "print(\"nilai max dari a = \",a.max())\n",
    "print(\"posisi max dari a = \",a.argmax())\n",
    "print(\"nilai min dari a = \",a.min())\n",
    "print(\"posisi min dari a = \",a.argmin())\n",
    "\n",
    "print(\"Mengurutkan Nilai\")\n",
    "print(\"mengurutkan nilai a dari terkecil-terbesar :\")\n",
    "print(np.sort(a))\n",
    "print(\"Posisi nilai terkecil->terbesa  :\\n\",np.argsort(a))"
   ]
  },
  {
   "cell_type": "markdown",
   "metadata": {},
   "source": [
    "#### 2 Dimensi"
   ]
  },
  {
   "cell_type": "code",
   "execution_count": 158,
   "metadata": {},
   "outputs": [
    {
     "name": "stdout",
     "output_type": "stream",
     "text": [
      "a :\n",
      " [[-10.  -4.]\n",
      " [  1.  -3.]]\n",
      "nilai max dari a =  1.0\n",
      "posisi max dari a =  2\n",
      "nilai min dari a =  -10.0\n",
      "posisi min dari a =  0\n",
      "\n",
      "Mengurutkan Nilai\n",
      "mengurutkan nilai a dari terkecil-terbesar :\n",
      "[[-10.  -4.]\n",
      " [ -3.   1.]]\n",
      "Posisi nilai terkecil->terbesar  :\n",
      " [[0 1]\n",
      " [1 0]]\n"
     ]
    }
   ],
   "source": [
    "import numpy as np\n",
    "\n",
    "a = np.floor(np.random.randn(2,2)*10)\n",
    "print(\"a :\\n\",a)\n",
    "print(\"nilai max dari a = \",a.max())\n",
    "print(\"posisi max dari a = \",a.argmax())\n",
    "print(\"nilai min dari a = \",a.min())\n",
    "print(\"posisi min dari a = \",a.argmin())\n",
    "\n",
    "print(\"\\nMengurutkan Nilai\")\n",
    "print(\"mengurutkan nilai a dari terkecil-terbesar :\")\n",
    "print(np.sort(a))\n",
    "print(\"Posisi nilai terkecil->terbesar  :\\n\",np.argsort(a))"
   ]
  },
  {
   "cell_type": "markdown",
   "metadata": {},
   "source": [
    "#### Multitype\n",
    "-order = requesr"
   ]
  },
  {
   "cell_type": "code",
   "execution_count": 163,
   "metadata": {},
   "outputs": [
    {
     "name": "stdout",
     "output_type": "stream",
     "text": [
      "[(b'badi', 150) (b'adzan', 188) (b'aminah', 178)]\n",
      "\n",
      "mengurutkan berdasarkan tinggi\n",
      "[(b'badi', 150) (b'aminah', 178) (b'adzan', 188)]\n",
      "\n",
      "mengurutkan berdasarkan nama\n",
      "[(b'adzan', 188) (b'aminah', 178) (b'badi', 150)]\n"
     ]
    }
   ],
   "source": [
    "import numpy as np\n",
    "\n",
    "dtipe =[('nama','S10'),('tinggi',int)]\n",
    "data = [('badi',150),\n",
    "        ('adzan',188),\n",
    "        (\"aminah\",178)]\n",
    "a= np.array(data,dtype = dtipe)\n",
    "print(a)\n",
    "print(\"\\nmengurutkan berdasarkan tinggi\")\n",
    "print(np.sort(a, order = 'tinggi'))\n",
    "print(\"\\nmengurutkan berdasarkan nama\")\n",
    "print(np.sort(a, order = 'nama'))"
   ]
  },
  {
   "cell_type": "markdown",
   "metadata": {},
   "source": [
    "## Perkalian Vektor(dot dan cross)\n",
    "- dot = a.b\n",
    "    =|a|.|b|. cos(teta)\n",
    "- cross = a x b\n",
    "        = |a|.|b|. sin(teta). arah"
   ]
  },
  {
   "cell_type": "code",
   "execution_count": 172,
   "metadata": {},
   "outputs": [
    {
     "name": "stdout",
     "output_type": "stream",
     "text": [
      "13\n",
      "[  6  -2 -19]\n",
      "[-6  2 19]\n"
     ]
    }
   ],
   "source": [
    "import numpy as np\n",
    "\n",
    "a = np.array([1,3])\n",
    "b = np.array([7,2])\n",
    "\n",
    "#perkalian dot\n",
    "c = np.dot(a,b)\n",
    "print(c)\n",
    "\n",
    "#perkalian cross\n",
    "a = np.array([1,3,0])\n",
    "b = np.array([7,2,2])\n",
    "\n",
    "d = np.cross(a,b)\n",
    "e = np.cross(b,a)\n",
    "print(d)\n",
    "print(e)"
   ]
  },
  {
   "cell_type": "markdown",
   "metadata": {},
   "source": [
    "## Invers dan Determinan\n",
    "- Gunanya kita dapat menyelesaikan persamaan linear\n",
    "- Invers mmatrix -> ketika dikalikan dengan inversnya maka menghasilkan matrix satuan->tidak semua matrix mempunyai invers\n",
    "- linalg(linear algebra) = kelas lain selain array pada numpy \n",
    "- Determinan : nilai dari matrix -> determinan dari suatu matrix yang bia di invers nilainya bukan 0"
   ]
  },
  {
   "cell_type": "code",
   "execution_count": 180,
   "metadata": {},
   "outputs": [
    {
     "name": "stdout",
     "output_type": "stream",
     "text": [
      "a : [[ 1 -1]\n",
      " [ 1  1]]\n",
      "Invers dari a adalah \n",
      " [[ 0.5  0.5]\n",
      " [-0.5  0.5]]\n",
      "Pembuktian a.a invers:\n",
      " [[1. 0.]\n",
      " [0. 1.]]\n",
      "Determinan dari Invers a adalh \n",
      " 2.0\n",
      "Determinan dari det_a\n",
      " 0.5\n"
     ]
    }
   ],
   "source": [
    "import numpy as np\n",
    "a = np.array([(1,-1),(1,1)])\n",
    "print(\"a :\",a)\n",
    "\n",
    "#invers matrix\n",
    "a_inv = np.linalg.inv(a)\n",
    "print(\"Invers dari a adalah \\n\",a_inv)\n",
    "print(\"Pembuktian a.a invers:\\n\",np.dot(a,a_inv))\n",
    "\n",
    "# Determinan matrix\n",
    "det_a = np.linalg.det(a)\n",
    "det_a_inv = np.linalg.det(a_inv)\n",
    "print(\"Determinan dari Invers a adalh \\n\",det_a)\n",
    "print(\"Determinan dari det_a\\n\",det_a_inv)"
   ]
  },
  {
   "cell_type": "markdown",
   "metadata": {},
   "source": [
    "## Solusi Persamaan Linear"
   ]
  },
  {
   "cell_type": "code",
   "execution_count": 188,
   "metadata": {},
   "outputs": [
    {
     "name": "stdout",
     "output_type": "stream",
     "text": [
      "A = \n",
      " [[2 3]\n",
      " [1 2]]\n",
      "Y =  [23 14]\n",
      "X =  [4. 5.]\n",
      "X2 =  [4. 5.]\n"
     ]
    }
   ],
   "source": [
    "import numpy as np\n",
    "\n",
    "A = np.array([(2,3),(1,2)])\n",
    "Y = np.array([23,14])\n",
    "print(\"A = \\n\",A)\n",
    "print(\"Y = \",Y)\n",
    "\n",
    "A_inv = np.linalg.inv(A)\n",
    "X = np.dot(A_inv,Y)\n",
    "print(\"X = \", X)\n",
    "#cara lain\n",
    "X2 = np.linalg.solve(A,Y)# A telah diinvers didalm fungsi solve dan dikalikan dot dengan Y\n",
    "print(\"X2 = \",X2)"
   ]
  },
  {
   "cell_type": "markdown",
   "metadata": {},
   "source": [
    "## Plot Data dengan Matplotlib\n",
    "Menginstal Matplotlib : perintah -> pip install matplotlib"
   ]
  },
  {
   "cell_type": "code",
   "execution_count": 207,
   "metadata": {},
   "outputs": [
    {
     "name": "stdout",
     "output_type": "stream",
     "text": [
      "x =  [ 0  1  2  3  4  5  6  7  8  9 10]\n",
      "nilai dari y = 2x + 3 : [ 3  5  7  9 11 13 15 17 19 21 23]\n"
     ]
    },
    {
     "data": {
      "text/plain": [
       "<function matplotlib.pyplot.show(*args, **kw)>"
      ]
     },
     "execution_count": 207,
     "metadata": {},
     "output_type": "execute_result"
    },
    {
     "data": {
      "image/png": "[encoded data removed]",
      "text/plain": [
       "<Figure size 432x288 with 1 Axes>"
      ]
     },
     "metadata": {
      "needs_background": "light"
     },
     "output_type": "display_data"
    },
    {
     "data": {
      "image/png": "[encoded data removed]",
      "text/plain": [
       "<Figure size 432x288 with 1 Axes>"
      ]
     },
     "metadata": {
      "needs_background": "light"
     },
     "output_type": "display_data"
    }
   ],
   "source": [
    "import numpy as np\n",
    "import matplotlib.pyplot as plt\n",
    "\n",
    "# Persamaan garis\n",
    "# y = 2x + 3\n",
    "\n",
    "x = np.arange(0,11,1)\n",
    "y = 2*x +3\n",
    "print(\"x = \",x)\n",
    "print(\"nilai dari y = 2x + 3 :\",y)\n",
    "plt.figure(1)\n",
    "plt.plot(x,y)\n",
    "\n",
    "#Lingkaran\n",
    "jari2 = 20\n",
    "sudut = np.linspace(0,2*np.pi,100)\n",
    "x1 = jari2*np.cos(sudut)\n",
    "y1 = jari2*np.sin(sudut)\n",
    "plt.figure(2)\n",
    "plt.plot(x1,y1)\n",
    "plt.show"
   ]
  },
  {
   "cell_type": "code",
   "execution_count": null,
   "metadata": {},
   "outputs": [],
   "source": []
  }
 ],
 "metadata": {
  "kernelspec": {
   "display_name": "Python 3",
   "language": "python",
   "name": "python3"
  },
  "language_info": {
   "codemirror_mode": {
    "name": "ipython",
    "version": 3
   },
   "file_extension": ".py",
   "mimetype": "text/x-python",
   "name": "python",
   "nbconvert_exporter": "python",
   "pygments_lexer": "ipython3",
   "version": "3.7.6"
  }
 },
 "nbformat": 4,
 "nbformat_minor": 4
}
